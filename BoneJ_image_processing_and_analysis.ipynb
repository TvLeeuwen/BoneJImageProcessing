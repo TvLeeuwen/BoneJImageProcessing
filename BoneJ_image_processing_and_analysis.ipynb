{
  "nbformat": 4,
  "nbformat_minor": 0,
  "metadata": {
    "colab": {
      "provenance": [],
      "authorship_tag": "ABX9TyOtnmy/6xU/QCUZhZ3ej87k",
      "include_colab_link": true
    },
    "kernelspec": {
      "name": "python3",
      "display_name": "Python 3"
    },
    "language_info": {
      "name": "python"
    }
  },
  "cells": [
    {
      "cell_type": "markdown",
      "metadata": {
        "id": "view-in-github",
        "colab_type": "text"
      },
      "source": [
        "<a href=\"https://colab.research.google.com/github/TvLeeuwen/BoneJImageProcessing/blob/main/BoneJ_image_processing_and_analysis.ipynb\" target=\"_parent\"><img src=\"https://colab.research.google.com/assets/colab-badge.svg\" alt=\"Open In Colab\"/></a>"
      ]
    },
    {
      "cell_type": "markdown",
      "source": [
        "# Analyse bone morphological parameters using condacolab and PyImageJ\n",
        "\n"
      ],
      "metadata": {
        "id": "2Zfb74ZEzlcY"
      }
    },
    {
      "cell_type": "markdown",
      "source": [
        "## Installing dependencies\n",
        "The first step is to install [condacolab](https://github.com/conda-incubator/condacolab) in your notebook. Once this is complete, you can use conda to install the other dependencies into the environment. Note, this might take a few minutes to complete."
      ],
      "metadata": {
        "id": "WGm1v4ME06vX"
      }
    },
    {
      "cell_type": "code",
      "source": [
        "!pip install -q condacolab\n",
        "import condacolab\n",
        "condacolab.install()"
      ],
      "metadata": {
        "id": "t8eAP6nuzxhr",
        "outputId": "a13de35c-3e8b-4f94-a961-94ba87a944d0",
        "colab": {
          "base_uri": "https://localhost:8080/"
        }
      },
      "execution_count": 1,
      "outputs": [
        {
          "output_type": "stream",
          "name": "stdout",
          "text": [
            "⏬ Downloading https://github.com/conda-forge/miniforge/releases/download/23.1.0-1/Mambaforge-23.1.0-1-Linux-x86_64.sh...\n",
            "📦 Installing...\n",
            "📌 Adjusting configuration...\n",
            "🩹 Patching environment...\n",
            "⏲ Done in 0:00:18\n",
            "🔁 Restarting kernel...\n"
          ]
        }
      ]
    },
    {
      "cell_type": "markdown",
      "source": [
        "### Check if collab is functional"
      ],
      "metadata": {
        "id": "bDVdeIwb0B85"
      }
    },
    {
      "cell_type": "code",
      "source": [
        "import condacolab\n",
        "condacolab.check()"
      ],
      "metadata": {
        "colab": {
          "base_uri": "https://localhost:8080/"
        },
        "id": "C2jPRO-pz5k_",
        "outputId": "2b476f75-f7fa-4bc0-bdfd-e1aaab4e194d"
      },
      "execution_count": 1,
      "outputs": [
        {
          "output_type": "stream",
          "name": "stdout",
          "text": [
            "✨🍰✨ Everything looks OK!\n"
          ]
        }
      ]
    },
    {
      "cell_type": "markdown",
      "source": [
        "### Install PyImageJ using Mamba\n",
        "This is all described under dynamic install using Google Collab at https://py.imagej.net/en/latest/Install.html"
      ],
      "metadata": {
        "id": "M0L5j04m0SD0"
      }
    },
    {
      "cell_type": "code",
      "source": [
        "!mamba install pyimagej openjdk=11"
      ],
      "metadata": {
        "id": "JQrxBASe0IYa"
      },
      "execution_count": null,
      "outputs": []
    },
    {
      "cell_type": "markdown",
      "source": [
        "### Download and install Fiji\n",
        "(Optional) Install plugins by using the commented code. Note that Filter_Rank is just a placeholder plugin here"
      ],
      "metadata": {
        "id": "FBZx9yxm9bqZ"
      }
    },
    {
      "cell_type": "code",
      "source": [
        "!wget https://downloads.imagej.net/fiji/latest/fiji-win64.zip > /dev/null && unzip fiji-win64.zip > /dev/null\n",
        "!rm fiji-win64.zip\n",
        "#!wget https://imagej.nih.gov/ij/plugins/download/Filter_Rank.class > /dev/null\n",
        "#!mv Filter_Rank.class Fiji.app/plugins"
      ],
      "metadata": {
        "id": "2NiK3O2q0Pcr"
      },
      "execution_count": null,
      "outputs": []
    },
    {
      "cell_type": "markdown",
      "source": [
        "## Set `JAVA_HOME`:\n",
        "\n",
        "We need to do this so that the openjdk installed by mamba gets used, since a conda env is not actually active in this scenario.\n"
      ],
      "metadata": {
        "id": "pjYgiQTD8rwi"
      }
    },
    {
      "cell_type": "code",
      "source": [
        "import os\n",
        "os.environ['JAVA_HOME']='/usr/local'"
      ],
      "metadata": {
        "id": "rQ2AYgZU4W4i"
      },
      "execution_count": 4,
      "outputs": []
    },
    {
      "cell_type": "markdown",
      "source": [
        "### Initiate ImageJ with the BoneJ plugin\n",
        "Check version to see if it is working"
      ],
      "metadata": {
        "id": "y-OWbrMo9Lch"
      }
    },
    {
      "cell_type": "code",
      "source": [
        "import imagej\n",
        "ij = imagej.init('sc.fiji:fiji:2.5.0+org.bonej:bonej-plugins:7.0.13')\n",
        "print(ij.getVersion())"
      ],
      "metadata": {
        "id": "vYQ9DI5a3fdX"
      },
      "execution_count": null,
      "outputs": []
    },
    {
      "cell_type": "code",
      "source": [],
      "metadata": {
        "id": "X-S-Tgfj4RJL"
      },
      "execution_count": null,
      "outputs": []
    }
  ]
}
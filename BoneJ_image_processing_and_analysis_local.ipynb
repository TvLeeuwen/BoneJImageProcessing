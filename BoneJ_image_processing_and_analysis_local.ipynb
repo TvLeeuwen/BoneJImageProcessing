{
 "cells": [
  {
   "cell_type": "markdown",
   "id": "c781a7ee-c5a5-4938-bf0b-39f3feb65eb2",
   "metadata": {},
   "source": [
    "# Analyse bone morphological parameters using condacolab and PyImageJ"
   ]
  },
  {
   "cell_type": "markdown",
   "id": "35da865b-f3b7-45dc-84ea-0a3ab16e0764",
   "metadata": {},
   "source": [
    "## Dependecies\n",
    "Numpy\n",
    "\n",
    "OpenJDK\n",
    "\n",
    "Maven\n",
    "\n",
    "PyImageJ\n",
    "\n",
    "OpenJDK\n",
    "\n",
    "iPyWidgets\n",
    "\n",
    "SciKit-Image\n",
    "\n",
    "VTK\n",
    "\n",
    "Stackview \n",
    "\n",
    "ipycanvas\n",
    "\n",
    "data analysis: Pandas\n",
    "\n",
    "## Installing dependencies\n",
    "\n",
    "### `conda install -c conda-forge openjdk maven`\n",
    "### `pip install pyimagej`\n",
    "### `pip install notebook numpy ipywidgets scikit-image stackview vtk`\n",
    "\n",
    "or\n",
    "\n",
    "### `conda install -r c_requirements.txt`\n",
    "### `pip install -r p_requirements.txt`"
   ]
  },
  {
   "cell_type": "markdown",
   "id": "9ffd0a03",
   "metadata": {},
   "source": [
    "### Import general dependencies"
   ]
  },
  {
   "cell_type": "code",
   "execution_count": 1,
   "id": "e01d84cc",
   "metadata": {},
   "outputs": [],
   "source": [
    "import numpy as np\n",
    "import os"
   ]
  },
  {
   "cell_type": "markdown",
   "id": "a0e0c28f",
   "metadata": {},
   "source": [
    "### Set work directory to current directory"
   ]
  },
  {
   "cell_type": "code",
   "execution_count": null,
   "id": "149b5966",
   "metadata": {
    "scrolled": true
   },
   "outputs": [],
   "source": [
    "work_dir = os.getcwd()\n",
    "print(work_dir)"
   ]
  },
  {
   "cell_type": "markdown",
   "id": "a60793e4",
   "metadata": {},
   "source": [
    "### Import and initiate ImageJ with BoneJ"
   ]
  },
  {
   "cell_type": "code",
   "execution_count": 3,
   "id": "0e4c7538-56b7-4c0d-a806-c96d83f84894",
   "metadata": {},
   "outputs": [
    {
     "name": "stdout",
     "output_type": "stream",
     "text": [
      "2.5.0/1.53r\n"
     ]
    }
   ],
   "source": [
    "import imagej\n",
    "ij = imagej.init('sc.fiji:fiji:2.5.0+org.bonej:bonej-plugins:7.0.13')\n",
    "print(ij.getVersion())"
   ]
  },
  {
   "cell_type": "markdown",
   "id": "12ca8bf2-9781-47da-af13-50aab6ffdab2",
   "metadata": {},
   "source": [
    "## Import data\n",
    "### Import tif with ImageJ and print dimensions to check"
   ]
  },
  {
   "cell_type": "code",
   "execution_count": 4,
   "id": "d5df39db-69b7-4537-bf6b-3345a5785d45",
   "metadata": {},
   "outputs": [
    {
     "name": "stdout",
     "output_type": "stream",
     "text": [
      "(583, 576, 1024)\n"
     ]
    }
   ],
   "source": [
    "img = ij.io().open('GF_100_Tibiotarsus_Dist_U_cropped_and_purified.tif')\n",
    "print(img.shape)"
   ]
  },
  {
   "cell_type": "markdown",
   "id": "b55e8d0d",
   "metadata": {},
   "source": [
    "### Show individual slice"
   ]
  },
  {
   "cell_type": "code",
   "execution_count": 5,
   "id": "eb37b412",
   "metadata": {},
   "outputs": [
    {
     "data": {
      "image/png": "[encoded data removed]",
      "text/plain": [
       "<Figure size 640x480 with 1 Axes>"
      ]
     },
     "metadata": {},
     "output_type": "display_data"
    }
   ],
   "source": [
    "ij.py.show(img[:,:,300])"
   ]
  },
  {
   "cell_type": "markdown",
   "id": "c0c67a4c",
   "metadata": {},
   "source": [
    "### Build image slice viewer using iPyWidgets"
   ]
  },
  {
   "cell_type": "code",
   "execution_count": 6,
   "id": "96f3e12c",
   "metadata": {},
   "outputs": [],
   "source": [
    "import ipywidgets\n",
    "\n",
    "def plane(image, pos):\n",
    "    \"\"\"\n",
    "    Slices an image plane at the given position.\n",
    "    :param image: the image to slice\n",
    "    :param pos: a dictionary from dimensional axis label to element index for that dimension\n",
    "    \"\"\"\n",
    "    # Convert pos dictionary to position indices in dimension order.\n",
    "    # See https://stackoverflow.com/q/39474396/1207769.\n",
    "    p = tuple(pos[image.dims[d]] if image.dims[d] in pos else slice(None) for d in range(image.ndim))\n",
    "    return image[p]\n",
    "\n",
    "def _axis_index(image, *options):\n",
    "    axes = tuple(d for d in range(image.ndim) if image.dims[d].lower() in options)\n",
    "    if len(axes) == 0:\n",
    "        raise ValueError(f\"Image has no {options[0]} axis!\")\n",
    "    return axes[0]\n",
    "\n",
    "def ndshow(image, cmap=None, x_axis=None, y_axis=None, immediate=False):\n",
    "    if not hasattr(image, 'dims'):\n",
    "        # We need dimensional axis labels!\n",
    "        raise TypeError(\"Metadata-rich image required\")\n",
    "\n",
    "    # Infer X and/or Y axes as needed.\n",
    "    if x_axis is None:\n",
    "        x_axis = _axis_index(image, \"x\", \"col\")\n",
    "    if y_axis is None:\n",
    "        y_axis = _axis_index(image, \"y\", \"row\")\n",
    "\n",
    "    # Build ipywidgets sliders, one per non-planar dimension.\n",
    "    widgets = {}\n",
    "    for d in range(image.ndim):\n",
    "        if d == x_axis or d == y_axis:\n",
    "            continue\n",
    "        label = image.dims[d]\n",
    "        widgets[label] = ipywidgets.IntSlider(description=label, max=image.shape[d]-1, continuous_update=immediate)\n",
    "\n",
    "    # Create image plot with interactive sliders.\n",
    "    def recalc(**kwargs):\n",
    "        print(\"displaying\")\n",
    "        ij.py.show(plane(image, kwargs), cmap=cmap)\n",
    "    ipywidgets.interact(recalc, **widgets)\n",
    "\n"
   ]
  },
  {
   "cell_type": "markdown",
   "id": "01d9f63a",
   "metadata": {},
   "source": [
    "### Display data by invoking ndshow"
   ]
  },
  {
   "cell_type": "code",
   "execution_count": 7,
   "id": "b1568232",
   "metadata": {},
   "outputs": [
    {
     "data": {
      "application/vnd.jupyter.widget-view+json": {
       "model_id": "de8408b845e641f897fa18f276221176",
       "version_major": 2,
       "version_minor": 0
      },
      "text/plain": [
       "interactive(children=(IntSlider(value=0, description='Z', max=1023), Output()), _dom_classes=('widget-interact…"
      ]
     },
     "metadata": {},
     "output_type": "display_data"
    }
   ],
   "source": [
    "ndshow(img, immediate=True)"
   ]
  },
  {
   "cell_type": "markdown",
   "id": "547fa87c",
   "metadata": {},
   "source": [
    "## Analysis - Use ScyJava.jImport to interpret Java based functions in Python"
   ]
  },
  {
   "cell_type": "markdown",
   "id": "f9cf7945",
   "metadata": {},
   "source": [
    "### Import and test Java functions using jImport"
   ]
  },
  {
   "cell_type": "code",
   "execution_count": 8,
   "id": "f2460f38",
   "metadata": {},
   "outputs": [
    {
     "name": "stdout",
     "output_type": "stream",
     "text": [
      "8108  MB available to Java\n"
     ]
    }
   ],
   "source": [
    "from scyjava import jimport\n",
    "Runtime = jimport('java.lang.Runtime')\n",
    "print(Runtime.getRuntime().maxMemory() // (2**20), \" MB available to Java\")"
   ]
  },
  {
   "cell_type": "markdown",
   "id": "c98eb905",
   "metadata": {},
   "source": [
    "### Convert image to imagePlus format, needed for running ImageJ analysis"
   ]
  },
  {
   "cell_type": "code",
   "execution_count": 9,
   "id": "4ec78b82",
   "metadata": {
    "scrolled": true
   },
   "outputs": [
    {
     "name": "stderr",
     "output_type": "stream",
     "text": [
      "Operating in headless mode - the original ImageJ will have limited functionality.\n"
     ]
    },
    {
     "name": "stdout",
     "output_type": "stream",
     "text": [
      "stats[count=335808, mean=23.18105881932533, min=0.0, max=255.0]\n"
     ]
    }
   ],
   "source": [
    "imp = ij.py.to_imageplus(img)\n",
    "print(imp.getAllStatistics())"
   ]
  },
  {
   "cell_type": "markdown",
   "id": "a1fbb04f",
   "metadata": {},
   "source": [
    "###  Run ImageJ/Fiji functions \n",
    "\n",
    "Syntax can be recorded in ImageJ/Fiji by going to _Plugins > Macros > Record_\n",
    "\n",
    "Set _Record_ to Python to get the correct syntax. The Threshold command below was generated by going _Image > Adjust > Threshold_ and running it with the recorder active."
   ]
  },
  {
   "cell_type": "code",
   "execution_count": 10,
   "id": "b6aa7701-c852-46f3-9fe6-f9258caa640b",
   "metadata": {},
   "outputs": [
    {
     "name": "stderr",
     "output_type": "stream",
     "text": [
      "Operating in headless mode - the IJ class will not be fully functional.\n",
      "[java.lang.Enum.toString]  \tArea\tMean\tMin\tMax[java.lang.Enum.toString] \n",
      "[java.lang.Enum.toString] 1\t335808\t23.181\t0\t255[java.lang.Enum.toString] \n"
     ]
    }
   ],
   "source": [
    "ij.IJ.run(imp, \"Measure\", \"\")"
   ]
  },
  {
   "cell_type": "markdown",
   "id": "cd52137d",
   "metadata": {},
   "source": [
    "### For plugins it gets a bit trickier\n",
    "Import the plugin wrapper and the shared results table from org.bonej using jimport\n",
    "\n",
    "Set up the wrapper to run the plugin on your image\n",
    "\n",
    "Use .get() to run the command - the results will be dropped in the shared table\n",
    "\n",
    "Fetch the table and extract your results"
   ]
  },
  {
   "cell_type": "code",
   "execution_count": 11,
   "id": "4f36cd27",
   "metadata": {},
   "outputs": [
    {
     "name": "stdout",
     "output_type": "stream",
     "text": [
      "[[5.1955372E7], [3.43867392E8], [0.15109130207961097]]\n",
      "0.15109130207961097\n"
     ]
    }
   ],
   "source": [
    "fractionwrapper = jimport('org.bonej.wrapperPlugins.ElementFractionWrapper')\n",
    "sharedtable = jimport('org.bonej.utilities.SharedTable')\n",
    "volumefraction_run = ij.command().run(fractionwrapper, True, [\"inputImage\",img])\n",
    "volumefraction_run.get()\n",
    "ftable = sharedtable.getTable()\n",
    "print(ftable)\n",
    "volumefraction = np.mean(ftable[2])\n",
    "print(volumefraction)"
   ]
  },
  {
   "cell_type": "markdown",
   "id": "c82e0623-411a-4d84-82e2-1c06c14b82e3",
   "metadata": {},
   "source": [
    "### BV/TV is wonky in BoneJ though\n",
    "Volumefraction uses the total image value as the TV instead of the total volume of the bone (bone + lumen). Dedicated ROI analyses do not work well in BoneJ/ImageJ/Fiji, so we are limited to an improvised approach. This can be addressed by using volumefraction twice. Run volumefraction to get the bone volume (BV against the total background (TV). Now fill the bone to make a solid bone that represents the total bone volume and run volume fraction again to get the full bone (BV) against the background (TV). Use the solid BV as your TV against your initial true BV to calculate the actual BV/TV.\n",
    "\n",
    "_Note that other BoneJ analyses will encounter similar ROI problems_\n",
    "\n",
    "_Implementing this here is technically a work in progress, but the ROI limitations most likely make BoneJ unsuitable as a proper tool for automizing this workflow._\n"
   ]
  },
  {
   "cell_type": "markdown",
   "id": "e018af37-ebf5-418e-9eb6-0aef516cb0f8",
   "metadata": {},
   "source": [
    "## Stackview"
   ]
  },
  {
   "cell_type": "code",
   "execution_count": 13,
   "id": "5ef37c72-ab3a-40a6-a378-0acef1fe9901",
   "metadata": {},
   "outputs": [],
   "source": [
    "from skimage.io import imread\n",
    "image = imread('GF_100_Tibiotarsus_Dist_U_cropped_and_purified.tif')"
   ]
  },
  {
   "cell_type": "code",
   "execution_count": 14,
   "id": "aeaa9522-693c-4d51-82d2-6f880d842986",
   "metadata": {},
   "outputs": [
    {
     "data": {
      "text/plain": [
       "(1024, 576, 583)"
      ]
     },
     "execution_count": 14,
     "metadata": {},
     "output_type": "execute_result"
    }
   ],
   "source": [
    "image.shape"
   ]
  },
  {
   "cell_type": "code",
   "execution_count": 15,
   "id": "0d4ecdbd",
   "metadata": {},
   "outputs": [
    {
     "data": {
      "application/vnd.jupyter.widget-view+json": {
       "model_id": "8ba71e24ef9041478db94d8ef197afa1",
       "version_major": 2,
       "version_minor": 0
      },
      "text/plain": [
       "VBox(children=(HBox(children=(VBox(children=(ImageWidget(height=576, width=583),)),)), IntSlider(value=512, de…"
      ]
     },
     "execution_count": 15,
     "metadata": {},
     "output_type": "execute_result"
    }
   ],
   "source": [
    "import stackview\n",
    "stackview.slice(image, continuous_update=True)"
   ]
  },
  {
   "cell_type": "code",
   "execution_count": 16,
   "id": "a4bed673",
   "metadata": {},
   "outputs": [],
   "source": [
    "import numpy as np\n",
    "from skimage import measure\n",
    "\n",
    "r_factor = 2\n",
    "reduce = measure.block_reduce(image, block_size=(r_factor,r_factor,r_factor), func=np.mean)"
   ]
  },
  {
   "cell_type": "code",
   "execution_count": 17,
   "id": "7a51bf11",
   "metadata": {},
   "outputs": [
    {
     "name": "stdout",
     "output_type": "stream",
     "text": [
      "(2787438, 3)\n"
     ]
    }
   ],
   "source": [
    "verts, faces, normals, values = measure._marching_cubes_lewiner.marching_cubes(reduce, 250)\n",
    "print(verts.shape)"
   ]
  },
  {
   "cell_type": "markdown",
   "id": "8c8c9b1c",
   "metadata": {},
   "source": [
    "### Write STL to work dir"
   ]
  },
  {
   "cell_type": "code",
   "execution_count": 18,
   "id": "cae79f61",
   "metadata": {},
   "outputs": [],
   "source": [
    "from vtktools import Writer\n",
    "\n",
    "writerT = Writer(v=verts, f=faces)\n",
    "writerT.write(f'{work_dir}\\\\test.stl')"
   ]
  },
  {
   "cell_type": "markdown",
   "id": "5d6facf0-0e03-41fe-83d9-88404c59752e",
   "metadata": {},
   "source": [
    "## Works in progress"
   ]
  },
  {
   "cell_type": "markdown",
   "id": "17d1ae1b",
   "metadata": {},
   "source": [
    "### Visualize STL - work in progress"
   ]
  },
  {
   "cell_type": "code",
   "execution_count": null,
   "id": "9d5b58b0",
   "metadata": {},
   "outputs": [],
   "source": [
    "import matplotlib.pyplot as plt\n",
    "from mpl_toolkits.mplot3d.art3d import Poly3DCollection\n",
    "# Display resulting triangular mesh using Matplotlib. This can also be done\n",
    "# with mayavi (see skimage.measure.marching_cubes_lewiner docstring).\n",
    "fig = plt.figure(figsize=(10, 10))\n",
    "ax = fig.add_subplot(111, projection='3d')\n",
    "\n",
    "# # Fancy indexing: `verts[faces]` to generate a collection of triangles\n",
    "mesh = Poly3DCollection(verts[faces])\n",
    "mesh.set_edgecolor('k')\n",
    "ax.add_collection3d(mesh)\n",
    "\n",
    "plt.tight_layout()\n",
    "plt.show()"
   ]
  },
  {
   "cell_type": "markdown",
   "id": "b54b4cb2-23e5-4c48-90b1-79b361dc94b8",
   "metadata": {},
   "source": [
    "### More ImageJ analyses - work in progress"
   ]
  },
  {
   "cell_type": "code",
   "execution_count": null,
   "id": "6b8961ba",
   "metadata": {},
   "outputs": [],
   "source": [
    "# https://javadoc.scijava.org/BoneJ/index.html?org/bonej/wrapperPlugins/package-summary.html\n",
    "fractionwrapper = jimport('org.bonej.wrapperPlugins.ElementFractionWrapper')\n",
    "thicknesswrapper = jimport('org.bonej.wrapperPlugins.ThicknessWrapper')\n",
    "anisotropywrapper = jimport('org.bonej.wrapperPlugins.AnisotropyWrapper')\n",
    "sharedtable = jimport('org.bonej.utilities.SharedTable')\n",
    "\n",
    "#fraction_run = ij.command().run(fractionwrapper, True, [\"inputImage\",imp])\n",
    "fraction_run = ij.command().run('org.bonej.wrapperPlugins.ElementFractionWrapper', True, [\"inputImage\",imp])\n",
    "fraction_run.get()\n",
    "table = sharedtable.getTable()\n",
    "print(table)\n",
    "volumefraction = np.mean(table[2])\n",
    "print(volumefraction)\n",
    "\n",
    "#ani_run = ij.command().run(anisotropywrapper, True, [\"inputImage\", imp, \"directions\", 2000, \"lines\", 10000, \"samplingIncrement\", 1.73, \"recommendedMin\", False, \"printRadii\", False, \"printEigens\", False, \"displayMILVectors\", False, \"printMILVectorsToTable\", False])\n",
    "#ani_run.get()\n",
    "#table = sharedtable.getTable()\n",
    "#anisotropy = np.mean(table[3])\n",
    "#print(anisotropy)\n",
    "\n",
    "#thick_run = ij.command().run(thicknesswrapper,False,[\"inputImage\", imp, \"showMaps\", True, \"maskArtefacts\", True])\n",
    "#thick_run.get()\n",
    "#table = sharedtable.getTable()\n",
    "#thickness = np.mean(table[3])\n",
    "#print(thickness)\n",
    "\n",
    "\n",
    "\n",
    "#IJ.run(\"Area/Volume fraction\", \"inputimage=net.imagej.ImgPlus@d362953\");\n",
    "#IJ.run(\"Anisotropy\", \"inputimage=net.imagej.ImgPlus@d362953 directions=2000 lines=10000 samplingincrement=1.73 recommendedmin=false printradii=false printeigens=false displaymilvectors=false printmilvectorstotable=false\");"
   ]
  },
  {
   "cell_type": "markdown",
   "id": "d46e09af-9f12-4526-b263-6074fe137f2f",
   "metadata": {},
   "source": [
    "### More BoneJ analyses - work in progress"
   ]
  },
  {
   "cell_type": "code",
   "execution_count": null,
   "id": "3e9a00b3",
   "metadata": {},
   "outputs": [],
   "source": [
    "anisotropywrapper = jimport('org.bonej.wrapperPlugins.AnisotropyWrapper')\n",
    "sharedtable = jimport('org.bonej.utilities.SharedTable')\n",
    "ani_run = ij.command().run(anisotropywrapper, True, [\"inputImage\", img, \"directions\", 2000, \"lines\", 10000, \"samplingIncrement\", 1.73, \"recommendedMin\", False, \"printRadii\", False, \"printEigens\", False, \"displayMILVectors\", False])\n",
    "ani_run.get()\n",
    "atable = sharedtable.getTable()\n",
    "print(atable)\n",
    "anisotropy = np.mean(atable[2])\n",
    "print(anisotropy)"
   ]
  },
  {
   "cell_type": "code",
   "execution_count": null,
   "id": "9a72dce8",
   "metadata": {},
   "outputs": [],
   "source": [
    "thicknesswrapper = jimport('org.bonej.wrapperPlugins.ThicknessWrapper')\n",
    "sharedtable = jimport('org.bonej.utilities.SharedTable')\n",
    "\n",
    "thicknesswrapper = ij.command().run(thicknesswrapper,False,[\"inputImage\", img, \"showMaps\", True, \"maskArtefacts\", True])\n",
    "wrapperInstance = thicknesswrapper.get()\n",
    "ttable = sharedtable.getTable()\n",
    "print(ttable)\n",
    "\n",
    "trabecular_map = wrapperInstance.getOutput(\"trabecularMap\");\n",
    "\n",
    "IJ.save(trabecular_map, f\"{work_dir}\\\\test_image_new.tif\")"
   ]
  },
  {
   "cell_type": "code",
   "execution_count": null,
   "id": "76ff3fed",
   "metadata": {},
   "outputs": [],
   "source": [
    "ImagePlus = jimport(\"ij.ImagePlus\")\n",
    "\n",
    "Prefs = jimport('ij.Prefs')\n",
    "Prefs.blackBackground = True\n",
    "\n",
    "img_thresh = np.zeros((img.shape))\n",
    "\n",
    "for i in range(0,img.shape[2]):\n",
    "\n",
    "    imp_i = ij.py.to_imageplus(img[:, :, i])\n",
    "\n",
    "    print(f'Iteration {i}/{img.shape[2]}', end='\\r')\n",
    "\n",
    "    ij.IJ.setRawThreshold(imp_i, 17, 255)\n",
    "\n",
    "    imp_i_thresh = ImagePlus(\"thresh-mask\", imp_i.createThresholdMask())\n",
    "    ij.IJ.run(imp_i, \"Close\", \"\")\n",
    "\n",
    "    #ij.py.show(imp_i)\n",
    "    \n",
    "\n",
    "    img_i_t = ij.py.to_dataset(imp_i_thresh)\n",
    "\n",
    "    res = np.array(imp_i_thresh.getProcessor().getPixels()).reshape(img[:, :, i].shape)\n",
    "    ij.py.show(res)\n",
    "    \n",
    "    img_thresh[:, :, i] = res\n",
    "\n",
    "    if i == int(img.shape[2]/2):\n",
    "        print('')\n",
    "        print(f'Slide number: {i}')\n",
    "        ij.py.show(img_thresh[:,:,i])\n",
    "    \n",
    "#ij.IJ.run(imp, \"Measure\", \"\")"
   ]
  }
 ],
 "metadata": {
  "kernelspec": {
   "display_name": "Python 3 (ipykernel)",
   "language": "python",
   "name": "python3"
  },
  "language_info": {
   "codemirror_mode": {
    "name": "ipython",
    "version": 3
   },
   "file_extension": ".py",
   "mimetype": "text/x-python",
   "name": "python",
   "nbconvert_exporter": "python",
   "pygments_lexer": "ipython3",
   "version": "3.8.17"
  }
 },
 "nbformat": 4,
 "nbformat_minor": 5
}

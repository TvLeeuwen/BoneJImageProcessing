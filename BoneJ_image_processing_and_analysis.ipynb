{
  "nbformat": 4,
  "nbformat_minor": 0,
  "metadata": {
    "colab": {
      "provenance": [],
      "authorship_tag": "ABX9TyM7oVV1ziRTTVANaNSxch6u",
      "include_colab_link": true
    },
    "kernelspec": {
      "name": "python3",
      "display_name": "Python 3"
    },
    "language_info": {
      "name": "python"
    }
  },
  "cells": [
    {
      "cell_type": "markdown",
      "metadata": {
        "id": "view-in-github",
        "colab_type": "text"
      },
      "source": [
        "<a href=\"https://colab.research.google.com/github/TvLeeuwen/BoneJImageProcessing/blob/main/BoneJ_image_processing_and_analysis.ipynb\" target=\"_parent\"><img src=\"https://colab.research.google.com/assets/colab-badge.svg\" alt=\"Open In Colab\"/></a>"
      ]
    },
    {
      "cell_type": "markdown",
      "source": [
        "# Analyse bone morphological parameters using condacolab and PyImageJ\n",
        "\n"
      ],
      "metadata": {
        "id": "2Zfb74ZEzlcY"
      }
    },
    {
      "cell_type": "markdown",
      "source": [
        "## Installing dependencies\n",
        "The first step is to install [condacolab](https://github.com/conda-incubator/condacolab) in your notebook. Once this is complete, you can use conda to install the other dependencies into the environment. Note, this might take a few minutes to complete."
      ],
      "metadata": {
        "id": "WGm1v4ME06vX"
      }
    },
    {
      "cell_type": "code",
      "source": [
        "!pip install -q condacolab\n",
        "import condacolab\n",
        "condacolab.install()"
      ],
      "metadata": {
        "id": "t8eAP6nuzxhr"
      },
      "execution_count": null,
      "outputs": []
    },
    {
      "cell_type": "markdown",
      "source": [
        "### Check if collab is functional"
      ],
      "metadata": {
        "id": "bDVdeIwb0B85"
      }
    },
    {
      "cell_type": "code",
      "source": [
        "import condacolab\n",
        "condacolab.check()"
      ],
      "metadata": {
        "colab": {
          "base_uri": "https://localhost:8080/"
        },
        "id": "C2jPRO-pz5k_",
        "outputId": "6518968c-478c-4fbc-e74c-667da93bb6ea"
      },
      "execution_count": 1,
      "outputs": [
        {
          "output_type": "stream",
          "name": "stdout",
          "text": [
            "✨🍰✨ Everything looks OK!\n"
          ]
        }
      ]
    },
    {
      "cell_type": "markdown",
      "source": [
        "### Install PyImageJ using Mamba"
      ],
      "metadata": {
        "id": "M0L5j04m0SD0"
      }
    },
    {
      "cell_type": "code",
      "source": [
        "!mamba install pyimagej openjdk=11"
      ],
      "metadata": {
        "id": "JQrxBASe0IYa"
      },
      "execution_count": null,
      "outputs": []
    },
    {
      "cell_type": "code",
      "source": [],
      "metadata": {
        "id": "2NiK3O2q0Pcr"
      },
      "execution_count": null,
      "outputs": []
    }
  ]
}
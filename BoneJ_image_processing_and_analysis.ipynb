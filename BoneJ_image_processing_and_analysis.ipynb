{
  "nbformat": 4,
  "nbformat_minor": 0,
  "metadata": {
    "colab": {
      "provenance": [],
      "authorship_tag": "ABX9TyMJ9iagaNpm6VZtcSgJmFpi",
      "include_colab_link": true
    },
    "kernelspec": {
      "name": "python3",
      "display_name": "Python 3"
    },
    "language_info": {
      "name": "python"
    }
  },
  "cells": [
    {
      "cell_type": "markdown",
      "metadata": {
        "id": "view-in-github",
        "colab_type": "text"
      },
      "source": [
        "<a href=\"https://colab.research.google.com/github/TvLeeuwen/BoneJImageProcessing/blob/main/BoneJ_image_processing_and_analysis.ipynb\" target=\"_parent\"><img src=\"https://colab.research.google.com/assets/colab-badge.svg\" alt=\"Open In Colab\"/></a>"
      ]
    },
    {
      "cell_type": "markdown",
      "source": [
        "# Analyse bone morphological parameters using condacolab and PyImageJ\n",
        "\n"
      ],
      "metadata": {
        "id": "2Zfb74ZEzlcY"
      }
    },
    {
      "cell_type": "markdown",
      "source": [
        "## Installing dependencies\n",
        "The first step is to install [condacolab](https://github.com/conda-incubator/condacolab) in your notebook. Once this is complete, you can use conda to install the other dependencies into the environment. Note, this might take a few minutes to complete."
      ],
      "metadata": {
        "id": "WGm1v4ME06vX"
      }
    },
    {
      "cell_type": "code",
      "source": [
        "!pip install -q condacolab\n",
        "import condacolab\n",
        "condacolab.install()"
      ],
      "metadata": {
        "id": "t8eAP6nuzxhr"
      },
      "execution_count": null,
      "outputs": []
    },
    {
      "cell_type": "markdown",
      "source": [
        "### Check if collab is functional"
      ],
      "metadata": {
        "id": "bDVdeIwb0B85"
      }
    },
    {
      "cell_type": "code",
      "source": [
        "import condacolab\n",
        "condacolab.check()"
      ],
      "metadata": {
        "colab": {
          "base_uri": "https://localhost:8080/"
        },
        "id": "C2jPRO-pz5k_",
        "outputId": "043d0507-64f1-42f9-8436-9e4171fe4137"
      },
      "execution_count": 5,
      "outputs": [
        {
          "output_type": "stream",
          "name": "stdout",
          "text": [
            "✨🍰✨ Everything looks OK!\n"
          ]
        }
      ]
    },
    {
      "cell_type": "markdown",
      "source": [
        "### Install PyImageJ using Mamba"
      ],
      "metadata": {
        "id": "M0L5j04m0SD0"
      }
    },
    {
      "cell_type": "code",
      "source": [
        "!mamba install pyimagej openjdk=11"
      ],
      "metadata": {
        "id": "JQrxBASe0IYa"
      },
      "execution_count": null,
      "outputs": []
    },
    {
      "cell_type": "code",
      "source": [
        "!wget https://downloads.imagej.net/fiji/latest/fiji-win64.zip > /dev/null && unzip fiji-win64.zip > /dev/null\n",
        "!rm fiji-win64.zip"
      ],
      "metadata": {
        "colab": {
          "base_uri": "https://localhost:8080/"
        },
        "id": "2NiK3O2q0Pcr",
        "outputId": "7f01513f-8176-4269-ebca-6a7d3eb04945"
      },
      "execution_count": 7,
      "outputs": [
        {
          "output_type": "stream",
          "name": "stdout",
          "text": [
            "--2023-08-18 14:36:13--  https://downloads.imagej.net/fiji/latest/fiji-win64.zip\n",
            "Resolving downloads.imagej.net (downloads.imagej.net)... 144.92.48.183\n",
            "Connecting to downloads.imagej.net (downloads.imagej.net)|144.92.48.183|:443... connected.\n",
            "HTTP request sent, awaiting response... 200 OK\n",
            "Length: 389724499 (372M) [application/zip]\n",
            "Saving to: ‘fiji-win64.zip’\n",
            "\n",
            "fiji-win64.zip      100%[===================>] 371.67M  42.9MB/s    in 8.8s    \n",
            "\n",
            "2023-08-18 14:36:22 (42.3 MB/s) - ‘fiji-win64.zip’ saved [389724499/389724499]\n",
            "\n",
            "replace Fiji.app/db.xml.gz? [y]es, [n]o, [A]ll, [N]one, [r]ename: "
          ]
        }
      ]
    },
    {
      "cell_type": "code",
      "source": [
        "import os\n",
        "os.environ['JAVA_HOME']='/usr/local'"
      ],
      "metadata": {
        "id": "rQ2AYgZU4W4i"
      },
      "execution_count": 11,
      "outputs": []
    },
    {
      "cell_type": "code",
      "source": [
        "import imagej\n",
        "ij = imagej.init('sc.fiji:fiji:2.5.0+org.bonej:bonej-plugins:7.0.13')\n",
        "print(ij.getVersion())"
      ],
      "metadata": {
        "id": "vYQ9DI5a3fdX"
      },
      "execution_count": null,
      "outputs": []
    },
    {
      "cell_type": "code",
      "source": [],
      "metadata": {
        "id": "X-S-Tgfj4RJL"
      },
      "execution_count": null,
      "outputs": []
    }
  ]
}